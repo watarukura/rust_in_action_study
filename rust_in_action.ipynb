{
 "cells": [
  {
   "cell_type": "code",
   "execution_count": null,
   "id": "b99e0b48-d6b9-4257-a42f-d6fb768a489b",
   "metadata": {},
   "outputs": [],
   "source": [
    "let a = 1;"
   ]
  },
  {
   "cell_type": "code",
   "execution_count": null,
   "id": "41d66658-ff42-4101-8573-140770930f9f",
   "metadata": {},
   "outputs": [],
   "source": [
    "a"
   ]
  },
  {
   "cell_type": "code",
   "execution_count": null,
   "id": "8a7d2bf9-e0a6-471f-9ba3-d947656ae2bd",
   "metadata": {},
   "outputs": [],
   "source": [
    ":dep rand = {version = \"0.8.5\"}"
   ]
  },
  {
   "cell_type": "code",
   "execution_count": null,
   "id": "33f12897-c8ff-42a9-ae7a-067c5d1f642a",
   "metadata": {},
   "outputs": [],
   "source": [
    "use rand::prelude::*;"
   ]
  },
  {
   "cell_type": "code",
   "execution_count": null,
   "id": "f1364ba6-558a-450c-90ee-24e068d09c71",
   "metadata": {},
   "outputs": [],
   "source": [
    "let c: bool = random();\n",
    "c"
   ]
  },
  {
   "cell_type": "code",
   "execution_count": null,
   "id": "9f901051-f663-4f7e-b4f5-1612bf36cbc8",
   "metadata": {},
   "outputs": [],
   "source": [
    "let d: f32 = random();\n",
    "d"
   ]
  },
  {
   "cell_type": "code",
   "execution_count": null,
   "id": "0d16b7b4-6748-4925-9b49-1be756f3f600",
   "metadata": {},
   "outputs": [],
   "source": [
    "(1..13)"
   ]
  },
  {
   "cell_type": "code",
   "execution_count": null,
   "id": "f8bf3bc8-965e-464f-835f-1327c4f86db5",
   "metadata": {},
   "outputs": [],
   "source": [
    "pub fn fib(x: i32) -> i32 {\n",
    "  if x <= 2 {1 } else {fib(x-2) + fib(x-1)}\n",
    "}"
   ]
  },
  {
   "cell_type": "code",
   "execution_count": null,
   "id": "2b02a969-626a-44b8-b0db-c44ad3f5f736",
   "metadata": {},
   "outputs": [],
   "source": [
    "let values = (1..13).map(fib).collect::<Vec<i32>>();"
   ]
  },
  {
   "cell_type": "code",
   "execution_count": null,
   "id": "5305be6a-6fc9-46a9-af6f-fbc1b69c8887",
   "metadata": {},
   "outputs": [],
   "source": [
    "values"
   ]
  },
  {
   "cell_type": "code",
   "execution_count": null,
   "id": "207f2796-a526-4f59-b0b3-f63a69e353d9",
   "metadata": {},
   "outputs": [],
   "source": [
    "println!(\"{:?}\",(1..13).map(fib));"
   ]
  },
  {
   "cell_type": "code",
   "execution_count": null,
   "id": "59dc3fd6-ca9c-46f7-8a11-4c671f3f3422",
   "metadata": {},
   "outputs": [],
   "source": [
    "println!(\"{}\", f32::MIN);"
   ]
  },
  {
   "cell_type": "code",
   "execution_count": null,
   "id": "88eadc77-960e-4c54-bb5c-a985d05b6fcc",
   "metadata": {},
   "outputs": [],
   "source": [
    "println!(\"{}\", f32::MAX);"
   ]
  },
  {
   "cell_type": "code",
   "execution_count": null,
   "id": "c6e70b21-e255-4d2b-bc01-4ce452482a93",
   "metadata": {},
   "outputs": [],
   "source": [
    "use rand::{random};"
   ]
  },
  {
   "cell_type": "code",
   "execution_count": null,
   "id": "833e49f0-5eae-4a84-af3e-5ee30c4c3efa",
   "metadata": {},
   "outputs": [],
   "source": [
    "static mut ERROR: isize = 0;"
   ]
  },
  {
   "cell_type": "code",
   "execution_count": null,
   "id": "bf2464f0-4172-4887-8582-ce2f49d9036b",
   "metadata": {},
   "outputs": [],
   "source": [
    "struct File;"
   ]
  },
  {
   "cell_type": "code",
   "execution_count": null,
   "id": "7a96654d-5f10-40a0-a791-776942c84329",
   "metadata": {},
   "outputs": [],
   "source": [
    "#[allow(unused_variables)]\n",
    "fn read(f: &File, save_to: &mut Vec<u8>) -> usize {\n",
    "    if random() && random() && random() {\n",
    "        unsafe {\n",
    "            ERROR = 1;\n",
    "        }\n",
    "    }\n",
    "    0\n",
    "}"
   ]
  },
  {
   "cell_type": "code",
   "execution_count": null,
   "id": "88e41354-c4da-4d92-8c15-2176dae90ca4",
   "metadata": {},
   "outputs": [],
   "source": [
    "#[allow(unused_mut)]\n",
    "fn main() {\n",
    "    let mut f = File;\n",
    "    let mut buffer = vec![];\n",
    "    \n",
    "    read(&f, &mut buffer);\n",
    "    unsafe {\n",
    "        if ERROR != 0 {\n",
    "            panic!(\"an error has occured!\")\n",
    "        }\n",
    "    }\n",
    "}"
   ]
  },
  {
   "cell_type": "code",
   "execution_count": null,
   "id": "0ee1b722-0176-426c-b499-b37b0ec595ce",
   "metadata": {},
   "outputs": [],
   "source": [
    "main()"
   ]
  },
  {
   "cell_type": "code",
   "execution_count": null,
   "id": "2c982708-e738-4683-9675-e110de7c6177",
   "metadata": {},
   "outputs": [],
   "source": [
    "ERROR"
   ]
  },
  {
   "cell_type": "code",
   "execution_count": null,
   "id": "32b1fa56-5392-4fa0-b9a8-7f9bad72ff30",
   "metadata": {},
   "outputs": [],
   "source": [
    "// list5-1\n",
    "let a: u16 = 50115;\n",
    "let b: i16 = -15421;\n",
    "println!(\"a: {:016b} {}\", a, a);\n",
    "println!(\"b: {:016b} {}\", b, b);"
   ]
  },
  {
   "cell_type": "code",
   "execution_count": null,
   "id": "c6f4070d-ff5d-4eac-a876-61a220b83c92",
   "metadata": {},
   "outputs": [],
   "source": [
    "let a: f32 = 42.42;\n",
    "let frankentype: u32 = unsafe {\n",
    "    std::mem::transmute(a) // f32をu32として解釈する\n",
    "};\n",
    "\n",
    "println!(\"{}\", frankentype);\n",
    "println!(\"{:032b}\", frankentype); // \"{:032b}\": 左から32桁をゼロパディングする\n",
    "\n",
    "let b: f32 = unsafe {\n",
    "    std::mem::transmute(frankentype)\n",
    "};\n",
    "\n",
    "println!(\"{}\", b);\n",
    "assert_eq!(a, b);\n"
   ]
  },
  {
   "cell_type": "code",
   "execution_count": null,
   "id": "e37cf59c-2de5-4f8c-b439-116518a72428",
   "metadata": {},
   "outputs": [],
   "source": [
    "let zero: u16 = 0b0000_0000_0000_0000;\n",
    "let one: u16 = 0b0000_0000_0000_0001;\n",
    "let two: u16 = 0b0000_0000_0000_0010;\n",
    "\n",
    "let sixty5_533: u16 = 0b1111_1111_1111_1101;\n",
    "let sixty5_534: u16 = 0b1111_1111_1111_1110;\n",
    "let sixty5_535: u16 = 0b1111_1111_1111_1111;\n",
    "\n",
    "println!(\"{}, {}, {}\", zero, one, two);\n",
    "println!(\"{}, {}, {}\", sixty5_533, sixty5_534, sixty5_535);"
   ]
  },
  {
   "cell_type": "code",
   "execution_count": null,
   "id": "cccfeeb1-0f2a-4961-b9e8-bd9048ed774b",
   "metadata": {},
   "outputs": [],
   "source": [
    "#[allow(arithmetic_overflow)]\n",
    "let(a,b) = (200,200);\n",
    "let c: u8 = a + b;\n",
    "println!(\"200 + 200 = {}\", c);"
   ]
  },
  {
   "cell_type": "code",
   "execution_count": null,
   "id": "32388ffd-4ffe-4149-8a81-a326bee3d3f2",
   "metadata": {},
   "outputs": [],
   "source": [
    "// list5-6\n",
    "use std::mem::transmute;\n",
    "\n",
    "let big_endian: [u8; 4] = [0xAA, 0xBB, 0xCC, 0xDD];\n",
    "let little_endian: [u8; 4] = [0xDD, 0xCC, 0xBB, 0xAA];\n",
    "\n",
    "println!(\"{:?} vs {:?}\", &big_endian, &little_endian);\n",
    "\n",
    "let a: i32 = unsafe { transmute(big_endian) };\n",
    "let b: i32 = unsafe { transmute(little_endian) };\n",
    "\n",
    "println!(\"{} vs {}\", a, b);"
   ]
  },
  {
   "cell_type": "code",
   "execution_count": null,
   "id": "f43955c5-82e5-4a0c-a936-30a21d715f4e",
   "metadata": {},
   "outputs": [],
   "source": [
    ":clear"
   ]
  },
  {
   "cell_type": "code",
   "execution_count": null,
   "id": "e95e238a-4548-4a47-b6c4-c6754bb5288a",
   "metadata": {},
   "outputs": [],
   "source": [
    "use std::mem::size_of;\n",
    "\n",
    "static B: [u8; 10] = [99,97,114,114,121,116,111,119,101,108];\n",
    "static C: [u8; 11] = [116,104,97,110,107, 115,102,105,115,104,0];\n",
    "\n",
    "fn main() {\n",
    "    let a: usize = 42;\n",
    "    let b: &[u8; 10] = &B;\n",
    "    let c: Box<[u8]> = Box::new(C);\n",
    "    \n",
    "    println!(\"a (符号のない整数):\");\n",
    "    println!(\" 場所: {:p}\", &a);\n",
    "    println!(\" サイズ: {:?}　バイト\", size_of::<usize>());\n",
    "    println!(\" 値: {:?}\", a);\n",
    "    println!();\n",
    "    \n",
    "    println!(\"b (Bへの参照):\");\n",
    "    println!(\" 場所: {:p}\", &b);\n",
    "    println!(\" サイズ: {:?}　バイト\", size_of::<&[u8; 10]>());\n",
    "    println!(\" 値: {:?}\", b);\n",
    "    println!();\n",
    "    \n",
    "    println!(\"c (Cを入れたボックス):\");\n",
    "    println!(\" 場所: {:p}\", &a);\n",
    "    println!(\" サイズ: {:?}　バイト\", size_of::<Box<[u8]>>());\n",
    "    println!(\" 値: {:?}\", a);\n",
    "    println!();\n",
    "    \n",
    "    println!(\"B (10バイトの配列):\");\n",
    "    println!(\" 場所: {:p}\", &B);\n",
    "    println!(\" サイズ: {:?}　バイト\", size_of::<[u8; 10]>());\n",
    "    println!(\" 値: {:?}\", B);\n",
    "    println!();\n",
    "    \n",
    "    println!(\"C (11バイトの配列):\");\n",
    "    println!(\" 場所: {:p}\", &C);\n",
    "    println!(\" サイズ: {:?}　バイト\", size_of::<[u8; 11]>());\n",
    "    println!(\" 値: {:?}\", C);\n",
    "    println!();\n",
    "}"
   ]
  },
  {
   "cell_type": "code",
   "execution_count": null,
   "id": "2c6d52c6",
   "metadata": {},
   "outputs": [],
   "source": [
    "let a: i32 = 40; // stack\n",
    "let b: Box<i32> = Box::new(60); //heap\n",
    "println!(\"{} + {} = {}\", a, b, a + *b); // 60にアクセスするにはデリファレンスが必要"
   ]
  },
  {
   "cell_type": "code",
   "execution_count": null,
   "id": "1b07769f",
   "metadata": {},
   "outputs": [],
   "source": [
    "let a = Box::new(1);\n",
    "let b = Box::new(1);\n",
    "let c = Box::new(1);\n",
    "\n",
    "let result1 = *a + *b + *c;\n",
    "drop(a); // aを開放する\n",
    "\n",
    "let d = Box::new(1);\n",
    "let result2 = *b + *c + *d;\n",
    "\n",
    "println!(\"{} {}\", result1, result2);"
   ]
  },
  {
   "cell_type": "code",
   "execution_count": null,
   "id": "d5104522",
   "metadata": {},
   "outputs": [],
   "source": [
    "let mut n_nonzero = 0;\n",
    "\n",
    "for i in 1..10000 {\n",
    "    let ptr = i as *const u8;\n",
    "    let byte_at_addr = unsafe { *ptr };\n",
    "    if byte_at_addr != 0 {\n",
    "        n_nonzero += 1;\n",
    "    }\n",
    "}\n",
    "\n",
    "println!(\"non-zer bytes in memory: {}\", n_nonzero);\n"
   ]
  },
  {
   "cell_type": "code",
   "execution_count": 10,
   "id": "a9086ff7",
   "metadata": {},
   "outputs": [],
   "source": [
    "static GLOBAL: i32 = 1000;\n",
    "\n",
    "fn noop() -> *const i32 {\n",
    "    let noop_local = 12345;\n",
    "    &noop_local as *const i32\n",
    "}\n",
    "\n",
    "fn main() {\n",
    "    let local_str = \"a\";\n",
    "    let local_int = 123;\n",
    "    let boxed_str = Box::new('b');\n",
    "    let boxed_int = Box::new(789);\n",
    "    let fn_int = noop();\n",
    "\n",
    "    println!(\"GLOBAL:   {:p}\", &GLOBAL as *const i32);\n",
    "    println!(\"local_str:   {:p}\", local_str as *const str);\n",
    "    println!(\"local_int:   {:p}\", local_int as *const i32);\n",
    "    println!(\"boxed_str:   {:p}\", Box::into_raw(boxed_str));\n",
    "    println!(\"boxed_int:   {:p}\", Box::into_raw(boxed_int));\n",
    "    println!(\"fn_int:   {:p}\", fn_int);\n",
    "}"
   ]
  },
  {
   "cell_type": "code",
   "execution_count": 15,
   "id": "2c6fefee",
   "metadata": {},
   "outputs": [
    {
     "name": "stdout",
     "output_type": "stream",
     "text": [
      "[0x00000000] 0a 66 6e 20 6d 61 69 6e 28 29 20 7b 0a 20 20 20 \n",
      "[0x00000010] 20 70 72 69 6e 74 6c 6e 21 28 22 48 65 6c 6c 6f \n",
      "[0x00000020] 2c 20 77 6f 72 6c 64 21 22 29 3b 0a 7d \n"
     ]
    }
   ],
   "source": [
    "use std::io::prelude::*;\n",
    "\n",
    "const BYTES_PER_LINE: usize = 16;\n",
    "const INPUT: &'static [u8] = br#\"\n",
    "fn main() {\n",
    "    println!(\"Hello, world!\");\n",
    "}\"#;\n",
    "\n",
    "// fn main() -> std::io::Result<()> {\n",
    "    let mut buffer: Vec<u8> = vec!();\n",
    "    INPUT.read_to_end(&mut buffer)?;\n",
    "\n",
    "    let mut position_in_input = 0;\n",
    "    for line in buffer.chunks(BYTES_PER_LINE) {\n",
    "        print!(\"[0x{:08x}] \", position_in_input);\n",
    "        for byte in line {\n",
    "            print!(\"{:02x} \", byte);\n",
    "        }\n",
    "        println!();\n",
    "        position_in_input += BYTES_PER_LINE;\n",
    "    }\n",
    "    // Ok(())\n",
    "// }"
   ]
  },
  {
   "cell_type": "code",
   "execution_count": 4,
   "id": "1d6184dd",
   "metadata": {},
   "outputs": [
    {
     "name": "stdout",
     "output_type": "stream",
     "text": [
      "84\n",
      "84\n"
     ]
    }
   ],
   "source": [
    "fn basic_hash(key: &str) -> u32 {\n",
    "    let first = key.chars()\n",
    "        .next()\n",
    "        .unwrap_or('\\0');\n",
    "\n",
    "    unsafe {\n",
    "        std::mem::transmute::<char, u32>(first)\n",
    "    }\n",
    "}\n",
    "\n",
    "println!(\"{}\", basic_hash(\"Tonga\"));\n",
    "println!(\"{}\", basic_hash(\"Tuvalu\"));"
   ]
  },
  {
   "cell_type": "code",
   "execution_count": 5,
   "id": "957c64f5",
   "metadata": {},
   "outputs": [
    {
     "name": "stdout",
     "output_type": "stream",
     "text": [
      "Tongaの首都は: Nuku'alofa\n"
     ]
    }
   ],
   "source": [
    "use std::collections::HashMap;\n",
    "\n",
    "let mut capitals = HashMap::new();\n",
    "\n",
    "capitals.insert(\"Cook Islands\", \"Avarua\");\n",
    "capitals.insert(\"Fiji\", \"Suva\");\n",
    "capitals.insert(\"Kiribati\", \"South Tarawa\");\n",
    "capitals.insert(\"Niue\", \"Alofi\");\n",
    "capitals.insert(\"Tonga\", \"Nuku'alofa\");\n",
    "capitals.insert(\"Tuvalu\", \"Funafuti\");\n",
    "\n",
    "let tongan_capital = capitals[\"Tonga\"];\n",
    "println!(\"Tongaの首都は: {}\", tongan_capital);\n"
   ]
  },
  {
   "cell_type": "code",
   "execution_count": 8,
   "id": "9f857f72",
   "metadata": {},
   "outputs": [],
   "source": [
    ":dep serde_json = \"1\""
   ]
  },
  {
   "cell_type": "code",
   "execution_count": 12,
   "id": "22af21f0",
   "metadata": {},
   "outputs": [
    {
     "name": "stdout",
     "output_type": "stream",
     "text": [
      "Tongaの首都は: \"Nuku'alofa\"\n"
     ]
    }
   ],
   "source": [
    "#[macro_use]\n",
    "extern crate serde_json;\n",
    "\n",
    "let capitals = json!({\n",
    "    \"Cook Islands\": \"Avarua\",\n",
    "    \"Kiribati\": \"South Tarawa\",\n",
    "    \"Niue\": \"Alofi\",\n",
    "    \"Tonga\": \"Nuku'alofa\",\n",
    "    \"Tuvalu\": \"Funafuti\"\n",
    "});\n",
    "\n",
    "println!(\"Tongaの首都は: {}\", capitals.get(\"Tonga\").unwrap());"
   ]
  },
  {
   "cell_type": "code",
   "execution_count": 16,
   "id": "ae966f64",
   "metadata": {},
   "outputs": [
    {
     "name": "stdout",
     "output_type": "stream",
     "text": [
      "Rotterdam の出資額は 173000\n",
      "Hoorn の出資額は 266868\n",
      "Delft の出資額は 469400\n",
      "Enkhuizen の出資額は 540000\n",
      "Middleburg の出資額は 1300405\n",
      "Amsterdam の出資額は 3697915\n",
      "小規模な支社: Rotterdam Hoorn Delft \n"
     ]
    }
   ],
   "source": [
    "use std::collections::BTreeMap;\n",
    "\n",
    "let mut voc = BTreeMap::new();\n",
    "\n",
    "voc.insert(3_697_915, \"Amsterdam\");\n",
    "voc.insert(1_300_405, \"Middleburg\");\n",
    "voc.insert(540_000, \"Enkhuizen\");\n",
    "voc.insert(469_400, \"Delft\");\n",
    "voc.insert(266_868, \"Hoorn\");\n",
    "voc.insert(173_000, \"Rotterdam\");\n",
    "\n",
    "for (guilders, kamer) in &voc {\n",
    "    println!(\"{} の出資額は {}\", kamer, guilders);\n",
    "}\n",
    "\n",
    "print!(\"小規模な支社: \");\n",
    "for (_guilders, kamer) in voc.range(0..500_000) {\n",
    "    print!(\"{} \", kamer);\n",
    "}\n",
    "println!(\"\");\n"
   ]
  },
  {
   "cell_type": "code",
   "execution_count": 3,
   "id": "3e5b3246",
   "metadata": {},
   "outputs": [],
   "source": [
    ":dep reqwest = \"0.9\""
   ]
  },
  {
   "cell_type": "code",
   "execution_count": 8,
   "id": "68118900",
   "metadata": {},
   "outputs": [
    {
     "name": "stdout",
     "output_type": "stream",
     "text": [
      "21371\n"
     ]
    },
    {
     "data": {
      "text/plain": [
       "Ok(())"
      ]
     },
     "execution_count": 8,
     "metadata": {},
     "output_type": "execute_result"
    }
   ],
   "source": [
    "// list 8-2\n",
    "use std::error::Error;\n",
    "\n",
    "fn main() -> Result<(), Box<dyn Error>> {\n",
    "    let url = \"http://www.rustinaction.com/\";\n",
    "    let mut response = reqwest::get(url)?;\n",
    "    let content = response.text()?;\n",
    "    println!(\"{}\", content.len());\n",
    "\n",
    "    Ok(())\n",
    "}\n",
    "\n",
    "main()"
   ]
  },
  {
   "cell_type": "code",
   "execution_count": 9,
   "id": "c5115d72",
   "metadata": {},
   "outputs": [
    {
     "name": "stdout",
     "output_type": "stream",
     "text": [
      "HTTP/1.0 400 Bad Request\n",
      "Cache-Control: no-cache\n",
      "Connection: close\n",
      "Content-Type: text/html\n",
      "\n",
      "<!DOCTYPE html>\n",
      "<html>\n",
      "<head>\n",
      "  <meta content=\"width=device-width, initial-scale=1, maximum-scale=1\" name=\"viewport\">\n",
      "  <title>400 Bad Request</title>\n",
      "  <style>\n",
      "    body {\n",
      "      color: #666;\n",
      "      text-align: center;\n",
      "      font-family: \"Helvetica Neue\", Helvetica, Arial, sans-serif;\n",
      "      margin: auto;\n",
      "      font-size: 14px;\n",
      "    }\n",
      "\n",
      "    h1 {\n",
      "      font-size: 56px;\n",
      "      line-height: 100px;\n",
      "      font-weight: normal;\n",
      "      color: #456;\n",
      "    }\n",
      "\n",
      "    h2 {\n",
      "      font-size: 24px;\n",
      "      color: #666;\n",
      "      line-height: 1.5em;\n",
      "    }\n",
      "\n",
      "    h3 {\n"
     ]
    },
    {
     "data": {
      "text/plain": [
       "Ok(())"
      ]
     },
     "execution_count": 9,
     "metadata": {},
     "output_type": "execute_result"
    },
    {
     "name": "stdout",
     "output_type": "stream",
     "text": [
      "      color: #456;\n",
      "      font-size: 20px;\n",
      "      font-weight: normal;\n",
      "      line-height: 28px;\n",
      "    }\n",
      "\n",
      "    hr {\n",
      "      max-width: 800px;\n",
      "      margin: 18px auto;\n",
      "      border: 0;\n",
      "      border-top: 1px solid #EEE;\n",
      "      border-bottom: 1px solid white;\n",
      "    }\n",
      "\n",
      "    img {\n",
      "      max-width: 40vw;\n",
      "    }\n",
      "\n",
      "    .container {\n",
      "      margin: auto 20px;\n",
      "    }\n",
      "  </style>\n",
      "</head>\n",
      "\n",
      "<body>\n",
      "  <h1>\n",
      "    <img src=\"data:image/svg+xml;base64,PHN2ZyB3aWR0aD0iMjEwIiBoZWlnaHQ9IjIxMCIgdmlld0JveD0iMCAwIDIxMCAyMTAiIHhtbG5zPSJodHRwOi8vd3d3LnczLm9yZy8yMDAwL3N2ZyI+CiAgPHBhdGggZD0iTTEwNS4wNjE0IDIwMy42NTVsMzguNjQtMTE4LjkyMWgtNzcuMjhsMzguNjQgMTE4LjkyMXoiIGZpbGw9IiNlMjQzMjkiLz4KICA8cGF0aCBkPSJNMTA1LjA2MTQgMjAzLjY1NDhsLTM4LjY0LTExOC45MjFoLTU0LjE1M2w5Mi43OTMgMTE4LjkyMXoiIGZpbGw9IiNmYzZkMjYiLz4KICA8cGF0aCBkPSJNMTIuMjY4NSA4NC43MzQxbC0xMS43NDIgMzYuMTM5Yy0xLjA3MSAzLjI5Ni4xMDIgNi45MDcgMi45MDYgOC45NDRsMTAxLjYyOSA3My44MzgtOTIuNzkzLTExOC45MjF6IiBmaWxsPSIjZmNhMzI2Ii8+CiAgPHBhdGggZD0iTTEyLjI2ODUgODQuNzM0Mmg1NC4xNTNsLTIzLjI3My03MS42MjVjLTEuMTk3LTMuNjg2LTYuNDExLTMuNjg1LTcuNjA4IDBsLTIzLjI3MiA3MS42MjV6IiBmaWxsPSIjZTI0MzI5Ii8+CiAgPHBhdGggZD0iTTEwNS4wNjE0IDIwMy42NTQ4bDM4LjY0LTExOC45MjFoNTQuMTUzbC05Mi43OTMgMTE4LjkyMXoiIGZpbGw9IiNmYzZkMjYiLz4KICA8cGF0aCBkPSJNMTk3Ljg1NDQgODQuNzM0MWwxMS43NDIgMzYuMTM5YzEuMDcxIDMuMjk2LS4xMDIgNi45MDctMi45MDYgOC45NDRsLTEwMS42MjkgNzMuODM4IDkyLjc5My0xMTguOTIxeiIgZmlsbD0iI2ZjYTMyNiIvPgogIDxwYXRoIGQ9Ik0xOTcuODU0NCA4NC43MzQyaC01NC4xNTNsMjMuMjczLTcxLjYyNWMxLjE5Ny0zLjY4NiA2LjQxMS0zLjY4NSA3LjYwOCAwbDIzLjI3MiA3MS42MjV6IiBmaWxsPSIjZTI0MzI5Ii8+Cjwvc3ZnPgo=\" alt=\"GitLab Logo\" /><br />\n",
      "    400\n",
      "  </h1>\n",
      "  <div class=\"container\">\n",
      "    <h3>Your browser sent an invalid request.</h3>\n",
      "    <hr />\n",
      "    <p>Please contact your GitLab administrator if you think this is a mistake.</p>\n",
      "  </div>\n",
      "</body>\n",
      "</html>\n",
      "<html>\n"
     ]
    }
   ],
   "source": [
    "use std::io::prelude::*;\n",
    "use std::net::TcpStream;\n",
    "\n",
    "fn main() -> std::io::Result<()> {\n",
    "    let host = \"www.rustinaction.com:80\";\n",
    "    let mut conn = TcpStream::connect(host)?;\n",
    "\n",
    "    // HTTP1.1だと動かない。\n",
    "    conn.write_all(b\"GET / HTTP/1.0\")?;\n",
    "    conn.write_all(b\"\\r\\n\")?;\n",
    "\n",
    "    std::io::copy(\n",
    "        &mut conn,\n",
    "        &mut std::io::stdout()\n",
    "    )?;\n",
    "\n",
    "    Ok(())\n",
    "}\n",
    "\n",
    "main()"
   ]
  },
  {
   "cell_type": "code",
   "execution_count": 2,
   "id": "5d441de0",
   "metadata": {},
   "outputs": [],
   "source": [
    "use std::fs::File;\n",
    "\n",
    "fn main() -> Result<(), std::io::Error> {\n",
    "    let _f = File::open(\"invisible.txt\")?;\n",
    "\n",
    "    Ok(())\n",
    "}\n",
    "\n",
    "main();"
   ]
  },
  {
   "cell_type": "code",
   "execution_count": 3,
   "id": "5d441de0",
   "metadata": {},
   "outputs": [
    {
     "ename": "Error",
     "evalue": "`?` couldn't convert the error to `std::io::Error`",
     "output_type": "error",
     "traceback": [
      "fn main() -> Result<(), std::io::Error> {",
      "             ^^^^^^^^^^^^^^^^^^^^^^^^^^ expected `std::io::Error` because of this",
      "        .parse::<Ipv6Addr>()?;",
      "                            ^ the trait `From<AddrParseError>` is not implemented for `std::io::Error`",
      "`?` couldn't convert the error to `std::io::Error`",
      "help: the following implementations were found:\n  <std::io::Error as From<ErrorKind>>\n  <std::io::Error as From<IntoInnerError<W>>>\n  <std::io::Error as From<NulError>>"
     ]
    }
   ],
   "source": [
    "use std::fs::File;\n",
    "use std::net::Ipv6Addr;\n",
    "\n",
    "fn main() -> Result<(), std::io::Error> {\n",
    "    let _f = File::open(\"invisible.txt\")?;\n",
    "\n",
    "    let _localhost = \"::1\"\n",
    "        .parse::<Ipv6Addr>()?;\n",
    "\n",
    "    Ok(())\n",
    "}\n",
    "\n",
    "main();"
   ]
  },
  {
   "cell_type": "code",
   "execution_count": 4,
   "id": "5d441de0",
   "metadata": {},
   "outputs": [],
   "source": [
    "use std::fs::File;\n",
    "use std::error::Error;\n",
    "use std::net::Ipv6Addr;\n",
    "\n",
    "// Box<dyn Error> はErrorを実装する方なら何でも表現する\n",
    "fn main() -> Result<(), Box<dyn Error>> {\n",
    "    let _f = File::open(\"invisible.txt\")?;\n",
    "\n",
    "    let _localhost = \"::1\"\n",
    "        .parse::<Ipv6Addr>()?;\n",
    "\n",
    "    Ok(())\n",
    "}\n",
    "\n",
    "main();"
   ]
  },
  {
   "cell_type": "code",
   "execution_count": 9,
   "id": "5d441de0",
   "metadata": {},
   "outputs": [],
   "source": [
    "use std::error;\n",
    "use std::io;\n",
    "use std::fmt;\n",
    "use std::net;\n",
    "use std::fs::File;\n",
    "use std::net::Ipv6Addr;\n",
    "\n",
    "#[derive(Debug)]\n",
    "enum UpstreamError{\n",
    "    IO(std::io::Error),\n",
    "    Parsing(net::AddrParseError),\n",
    "}\n",
    "\n",
    "impl fmt::Display for UpstreamError {\n",
    "    fn fmt(&self, f: &mut fmt::Formatter<'_>) -> fmt::Result {\n",
    "        write!(f, \"{:?}\", self)\n",
    "    }\n",
    "}\n",
    "\n",
    "// デフォルトのメソッド実装に任せる。空白はコンパイラが埋めてくれる\n",
    "impl error::Error for UpstreamError {}\n",
    "\n",
    "impl From<io::Error> for UpstreamError {\n",
    "    fn from(error: io::Error) -> Self {\n",
    "        UpstreamError::IO(error)\n",
    "    }\n",
    "}\n",
    "impl From<net::AddrParseError> for UpstreamError {\n",
    "    fn from(error: net::AddrParseError) -> Self {\n",
    "        UpstreamError::Parsing(error)\n",
    "    }\n",
    "}\n",
    "\n",
    "fn main() -> Result<(), UpstreamError> {\n",
    "    let _f = File::open(\"invisible.txt\")?;\n",
    "\n",
    "    let _localhost = \"::1\"\n",
    "        .parse::<Ipv6Addr>()?;\n",
    "\n",
    "    Ok(())\n",
    "}\n",
    "\n",
    "main();"
   ]
  },
  {
   "cell_type": "code",
   "execution_count": null,
   "id": "4332147c",
   "metadata": {},
   "outputs": [],
   "source": []
  }
 ],
 "metadata": {
  "kernelspec": {
   "display_name": "Rust",
   "language": "rust",
   "name": "rust"
  },
  "language_info": {
   "codemirror_mode": "rust",
   "file_extension": ".rs",
   "mimetype": "text/rust",
   "name": "Rust",
   "pygment_lexer": "rust",
   "version": ""
  }
 },
 "nbformat": 4,
 "nbformat_minor": 5
}
