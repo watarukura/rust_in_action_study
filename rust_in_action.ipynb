{
 "cells": [
  {
   "cell_type": "code",
   "execution_count": 2,
   "id": "b99e0b48-d6b9-4257-a42f-d6fb768a489b",
   "metadata": {},
   "outputs": [],
   "source": [
    "let a = 1;"
   ]
  },
  {
   "cell_type": "code",
   "execution_count": 3,
   "id": "41d66658-ff42-4101-8573-140770930f9f",
   "metadata": {},
   "outputs": [
    {
     "data": {
      "text/plain": [
       "1"
      ]
     },
     "execution_count": 3,
     "metadata": {},
     "output_type": "execute_result"
    }
   ],
   "source": [
    "a"
   ]
  },
  {
   "cell_type": "code",
   "execution_count": 21,
   "id": "8a7d2bf9-e0a6-471f-9ba3-d947656ae2bd",
   "metadata": {},
   "outputs": [],
   "source": [
    ":dep rand = {version = \"0.8.5\"}"
   ]
  },
  {
   "cell_type": "code",
   "execution_count": 27,
   "id": "33f12897-c8ff-42a9-ae7a-067c5d1f642a",
   "metadata": {},
   "outputs": [],
   "source": [
    "use rand::prelude::*;"
   ]
  },
  {
   "cell_type": "code",
   "execution_count": 34,
   "id": "f1364ba6-558a-450c-90ee-24e068d09c71",
   "metadata": {},
   "outputs": [
    {
     "data": {
      "text/plain": [
       "true"
      ]
     },
     "execution_count": 34,
     "metadata": {},
     "output_type": "execute_result"
    }
   ],
   "source": [
    "let c: bool = random();\n",
    "c"
   ]
  },
  {
   "cell_type": "code",
   "execution_count": 46,
   "id": "9f901051-f663-4f7e-b4f5-1612bf36cbc8",
   "metadata": {},
   "outputs": [
    {
     "data": {
      "text/plain": [
       "0.5060014"
      ]
     },
     "execution_count": 46,
     "metadata": {},
     "output_type": "execute_result"
    }
   ],
   "source": [
    "let d: f32 = random();\n",
    "d"
   ]
  },
  {
   "cell_type": "code",
   "execution_count": 13,
   "id": "0d16b7b4-6748-4925-9b49-1be756f3f600",
   "metadata": {},
   "outputs": [
    {
     "data": {
      "text/plain": [
       "1..13"
      ]
     },
     "execution_count": 13,
     "metadata": {},
     "output_type": "execute_result"
    }
   ],
   "source": [
    "(1..13)"
   ]
  },
  {
   "cell_type": "code",
   "execution_count": 14,
   "id": "f8bf3bc8-965e-464f-835f-1327c4f86db5",
   "metadata": {},
   "outputs": [],
   "source": [
    "pub fn fib(x: i32) -> i32 {\n",
    "  if x <= 2 {1 } else {fib(x-2) + fib(x-1)}\n",
    "}"
   ]
  },
  {
   "cell_type": "code",
   "execution_count": 15,
   "id": "2b02a969-626a-44b8-b0db-c44ad3f5f736",
   "metadata": {},
   "outputs": [],
   "source": [
    "let values = (1..13).map(fib).collect::<Vec<i32>>();"
   ]
  },
  {
   "cell_type": "code",
   "execution_count": 16,
   "id": "5305be6a-6fc9-46a9-af6f-fbc1b69c8887",
   "metadata": {},
   "outputs": [
    {
     "data": {
      "text/plain": [
       "[1, 1, 2, 3, 5, 8, 13, 21, 34, 55, 89, 144]"
      ]
     },
     "execution_count": 16,
     "metadata": {},
     "output_type": "execute_result"
    }
   ],
   "source": [
    "values"
   ]
  },
  {
   "cell_type": "code",
   "execution_count": 20,
   "id": "207f2796-a526-4f59-b0b3-f63a69e353d9",
   "metadata": {},
   "outputs": [
    {
     "name": "stdout",
     "output_type": "stream",
     "text": [
      "Map { iter: 1..13 }\n"
     ]
    }
   ],
   "source": [
    "println!(\"{:?}\",(1..13).map(fib));"
   ]
  },
  {
   "cell_type": "code",
   "execution_count": 47,
   "id": "59dc3fd6-ca9c-46f7-8a11-4c671f3f3422",
   "metadata": {},
   "outputs": [
    {
     "name": "stdout",
     "output_type": "stream",
     "text": [
      "-340282350000000000000000000000000000000\n"
     ]
    }
   ],
   "source": [
    "println!(\"{}\", f32::MIN);"
   ]
  },
  {
   "cell_type": "code",
   "execution_count": 48,
   "id": "88eadc77-960e-4c54-bb5c-a985d05b6fcc",
   "metadata": {},
   "outputs": [
    {
     "name": "stdout",
     "output_type": "stream",
     "text": [
      "340282350000000000000000000000000000000\n"
     ]
    }
   ],
   "source": [
    "println!(\"{}\", f32::MAX);"
   ]
  },
  {
   "cell_type": "code",
   "execution_count": 49,
   "id": "c6e70b21-e255-4d2b-bc01-4ce452482a93",
   "metadata": {},
   "outputs": [],
   "source": [
    "use rand::{random};"
   ]
  },
  {
   "cell_type": "code",
   "execution_count": 50,
   "id": "833e49f0-5eae-4a84-af3e-5ee30c4c3efa",
   "metadata": {},
   "outputs": [],
   "source": [
    "static mut ERROR: isize = 0;"
   ]
  },
  {
   "cell_type": "code",
   "execution_count": 51,
   "id": "bf2464f0-4172-4887-8582-ce2f49d9036b",
   "metadata": {},
   "outputs": [],
   "source": [
    "struct File;"
   ]
  },
  {
   "cell_type": "code",
   "execution_count": 52,
   "id": "7a96654d-5f10-40a0-a791-776942c84329",
   "metadata": {},
   "outputs": [],
   "source": [
    "#[allow(unused_variables)]\n",
    "fn read(f: &File, save_to: &mut Vec<u8>) -> usize {\n",
    "    if random() && random() && random() {\n",
    "        unsafe {\n",
    "            ERROR = 1;\n",
    "        }\n",
    "    }\n",
    "    0\n",
    "}"
   ]
  },
  {
   "cell_type": "code",
   "execution_count": 53,
   "id": "88e41354-c4da-4d92-8c15-2176dae90ca4",
   "metadata": {},
   "outputs": [],
   "source": [
    "#[allow(unused_mut)]\n",
    "fn main() {\n",
    "    let mut f = File;\n",
    "    let mut buffer = vec![];\n",
    "    \n",
    "    read(&f, &mut buffer);\n",
    "    unsafe {\n",
    "        if ERROR != 0 {\n",
    "            panic!(\"an error has occured!\")\n",
    "        }\n",
    "    }\n",
    "}"
   ]
  },
  {
   "cell_type": "code",
   "execution_count": 54,
   "id": "0ee1b722-0176-426c-b499-b37b0ec595ce",
   "metadata": {},
   "outputs": [
    {
     "data": {
      "text/plain": [
       "()"
      ]
     },
     "execution_count": 54,
     "metadata": {},
     "output_type": "execute_result"
    }
   ],
   "source": [
    "main()"
   ]
  },
  {
   "cell_type": "code",
   "execution_count": 55,
   "id": "2c982708-e738-4683-9675-e110de7c6177",
   "metadata": {},
   "outputs": [
    {
     "ename": "Error",
     "evalue": "use of mutable static is unsafe and requires unsafe function or block",
     "output_type": "error",
     "traceback": [
      "use of mutable static",
      "use of mutable static is unsafe and requires unsafe function or block"
     ]
    }
   ],
   "source": [
    "ERROR"
   ]
  },
  {
   "cell_type": "code",
   "execution_count": 6,
   "id": "32b1fa56-5392-4fa0-b9a8-7f9bad72ff30",
   "metadata": {},
   "outputs": [
    {
     "name": "stdout",
     "output_type": "stream",
     "text": [
      "a: 1100001111000011 50115\n",
      "b: 1100001111000011 -15421\n"
     ]
    }
   ],
   "source": [
    "// list5-1\n",
    "let a: u16 = 50115;\n",
    "let b: i16 = -15421;\n",
    "println!(\"a: {:016b} {}\", a, a);\n",
    "println!(\"b: {:016b} {}\", b, b);"
   ]
  },
  {
   "cell_type": "code",
   "execution_count": 9,
   "id": "c6f4070d-ff5d-4eac-a876-61a220b83c92",
   "metadata": {},
   "outputs": [
    {
     "name": "stdout",
     "output_type": "stream",
     "text": [
      "1110027796\n",
      "01000010001010011010111000010100\n",
      "42.42\n"
     ]
    }
   ],
   "source": [
    "let a: f32 = 42.42;\n",
    "let frankentype: u32 = unsafe {\n",
    "    std::mem::transmute(a) // f32をu32として解釈する\n",
    "};\n",
    "\n",
    "println!(\"{}\", frankentype);\n",
    "println!(\"{:032b}\", frankentype); // \"{:032b}\": 左から32桁をゼロパディングする\n",
    "\n",
    "let b: f32 = unsafe {\n",
    "    std::mem::transmute(frankentype)\n",
    "};\n",
    "\n",
    "println!(\"{}\", b);\n",
    "assert_eq!(a, b);\n"
   ]
  },
  {
   "cell_type": "code",
   "execution_count": 10,
   "id": "e37cf59c-2de5-4f8c-b439-116518a72428",
   "metadata": {},
   "outputs": [
    {
     "name": "stdout",
     "output_type": "stream",
     "text": [
      "0, 1, 2\n",
      "65533, 65534, 65535\n"
     ]
    }
   ],
   "source": [
    "let zero: u16 = 0b0000_0000_0000_0000;\n",
    "let one: u16 = 0b0000_0000_0000_0001;\n",
    "let two: u16 = 0b0000_0000_0000_0010;\n",
    "\n",
    "let sixty5_533: u16 = 0b1111_1111_1111_1101;\n",
    "let sixty5_534: u16 = 0b1111_1111_1111_1110;\n",
    "let sixty5_535: u16 = 0b1111_1111_1111_1111;\n",
    "\n",
    "println!(\"{}, {}, {}\", zero, one, two);\n",
    "println!(\"{}, {}, {}\", sixty5_533, sixty5_534, sixty5_535);"
   ]
  },
  {
   "cell_type": "code",
   "execution_count": 11,
   "id": "cccfeeb1-0f2a-4961-b9e8-bd9048ed774b",
   "metadata": {},
   "outputs": [
    {
     "ename": "Error",
     "evalue": "this arithmetic operation will overflow",
     "output_type": "error",
     "traceback": [
      "let c: u8 = a + b;",
      "            ^^^^^ attempt to compute `200_u8 + 200_u8`, which would overflow",
      "this arithmetic operation will overflow"
     ]
    }
   ],
   "source": [
    "#[allow(arithmetic_overflow)]\n",
    "let(a,b) = (200,200);\n",
    "let c: u8 = a + b;\n",
    "println!(\"200 + 200 = {}\", c);"
   ]
  },
  {
   "cell_type": "code",
   "execution_count": 23,
   "id": "32388ffd-4ffe-4149-8a81-a326bee3d3f2",
   "metadata": {},
   "outputs": [
    {
     "name": "stdout",
     "output_type": "stream",
     "text": [
      "[170, 187, 204, 221] vs [221, 204, 187, 170]\n",
      "-573785174 vs -1430532899\n"
     ]
    }
   ],
   "source": [
    "// list5-6\n",
    "use std::mem::transmute;\n",
    "\n",
    "let big_endian: [u8; 4] = [0xAA, 0xBB, 0xCC, 0xDD];\n",
    "let little_endian: [u8; 4] = [0xDD, 0xCC, 0xBB, 0xAA];\n",
    "\n",
    "println!(\"{:?} vs {:?}\", &big_endian, &little_endian);\n",
    "\n",
    "let a: i32 = unsafe { transmute(big_endian) };\n",
    "let b: i32 = unsafe { transmute(little_endian) };\n",
    "\n",
    "println!(\"{} vs {}\", a, b);"
   ]
  },
  {
   "cell_type": "code",
   "execution_count": 2,
   "id": "f43955c5-82e5-4a0c-a936-30a21d715f4e",
   "metadata": {},
   "outputs": [],
   "source": [
    ":clear"
   ]
  },
  {
   "cell_type": "code",
   "execution_count": 4,
   "id": "e95e238a-4548-4a47-b6c4-c6754bb5288a",
   "metadata": {},
   "outputs": [],
   "source": [
    "use std::mem::size_of;\n",
    "\n",
    "static B: [u8; 10] = [99,97,114,114,121,116,111,119,101,108];\n",
    "static C: [u8; 11] = [116,104,97,110,107, 115,102,105,115,104,0];\n",
    "\n",
    "fn main() {\n",
    "    let a: usize = 42;\n",
    "    let b: &[u8; 10] = &B;\n",
    "    let c: Box<[u8]> = Box::new(C);\n",
    "    \n",
    "    println!(\"a (符号のない整数):\");\n",
    "    println!(\" 場所: {:p}\", &a);\n",
    "    println!(\" サイズ: {:?}　バイト\", size_of::<usize>());\n",
    "    println!(\" 値: {:?}\", a);\n",
    "    println!();\n",
    "    \n",
    "    println!(\"b (Bへの参照):\");\n",
    "    println!(\" 場所: {:p}\", &b);\n",
    "    println!(\" サイズ: {:?}　バイト\", size_of::<&[u8; 10]>());\n",
    "    println!(\" 値: {:?}\", b);\n",
    "    println!();\n",
    "    \n",
    "    println!(\"c (Cを入れたボックス):\");\n",
    "    println!(\" 場所: {:p}\", &a);\n",
    "    println!(\" サイズ: {:?}　バイト\", size_of::<Box<[u8]>>());\n",
    "    println!(\" 値: {:?}\", a);\n",
    "    println!();\n",
    "    \n",
    "    println!(\"B (10バイトの配列):\");\n",
    "    println!(\" 場所: {:p}\", &B);\n",
    "    println!(\" サイズ: {:?}　バイト\", size_of::<[u8; 10]>());\n",
    "    println!(\" 値: {:?}\", B);\n",
    "    println!();\n",
    "    \n",
    "    println!(\"C (11バイトの配列):\");\n",
    "    println!(\" 場所: {:p}\", &C);\n",
    "    println!(\" サイズ: {:?}　バイト\", size_of::<[u8; 11]>());\n",
    "    println!(\" 値: {:?}\", C);\n",
    "    println!();\n",
    "}"
   ]
  },
  {
   "cell_type": "code",
   "execution_count": 5,
   "id": "2c6d52c6",
   "metadata": {},
   "outputs": [
    {
     "name": "stdout",
     "output_type": "stream",
     "text": [
      "40 + 60 = 100\n"
     ]
    }
   ],
   "source": [
    "let a: i32 = 40; // stack\n",
    "let b: Box<i32> = Box::new(60); //heap\n",
    "println!(\"{} + {} = {}\", a, b, a + *b); // 60にアクセスするにはデリファレンスが必要"
   ]
  },
  {
   "cell_type": "code",
   "execution_count": 6,
   "id": "1b07769f",
   "metadata": {},
   "outputs": [
    {
     "name": "stdout",
     "output_type": "stream",
     "text": [
      "3 3\n"
     ]
    }
   ],
   "source": [
    "let a = Box::new(1);\n",
    "let b = Box::new(1);\n",
    "let c = Box::new(1);\n",
    "\n",
    "let result1 = *a + *b + *c;\n",
    "drop(a); // aを開放する\n",
    "\n",
    "let d = Box::new(1);\n",
    "let result2 = *b + *c + *d;\n",
    "\n",
    "println!(\"{} {}\", result1, result2);"
   ]
  },
  {
   "cell_type": "code",
   "execution_count": null,
   "id": "d5104522",
   "metadata": {},
   "outputs": [],
   "source": []
  }
 ],
 "metadata": {
  "kernelspec": {
   "display_name": "Rust",
   "language": "rust",
   "name": "rust"
  },
  "language_info": {
   "codemirror_mode": "rust",
   "file_extension": ".rs",
   "mimetype": "text/rust",
   "name": "Rust",
   "pygment_lexer": "rust",
   "version": ""
  }
 },
 "nbformat": 4,
 "nbformat_minor": 5
}
